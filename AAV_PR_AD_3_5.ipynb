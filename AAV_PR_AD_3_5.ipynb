{
  "nbformat": 4,
  "nbformat_minor": 0,
  "metadata": {
    "colab": {
      "provenance": [],
      "collapsed_sections": []
    },
    "kernelspec": {
      "name": "python3",
      "display_name": "Python 3"
    },
    "language_info": {
      "name": "python"
    }
  },
  "cells": [
    {
      "cell_type": "code",
      "source": [
        "def n_fib(n):\n",
        "    a = 0\n",
        "    b = 1\n",
        "    c = 0\n",
        "    x = [0, 1]\n",
        "    for i in range(n - 1):\n",
        "        c = a + b\n",
        "        x.append(c)\n",
        "        a = b\n",
        "        b = c\n",
        "    a = 0\n",
        "    b = 1\n",
        "    c = 0\n",
        "    d = 0\n",
        "    for i in range(n - 1):\n",
        "        c = a - b\n",
        "        x.insert(0, c)\n",
        "        a = b\n",
        "        b = c\n",
        "    return x\n",
        "    \n",
        "n_fib(10)"
      ],
      "metadata": {
        "colab": {
          "base_uri": "https://localhost:8080/"
        },
        "id": "DqJS2EZ5KcY2",
        "outputId": "3817c032-e270-4109-ee7b-8c275af9606b"
      },
      "execution_count": 19,
      "outputs": [
        {
          "output_type": "execute_result",
          "data": {
            "text/plain": [
              "[-55, 34, -21, 13, -8, 5, -3, 2, -1, 0, 1, 1, 2, 3, 5, 8, 13, 21, 34, 55]"
            ]
          },
          "metadata": {},
          "execution_count": 19
        }
      ]
    }
  ]
}