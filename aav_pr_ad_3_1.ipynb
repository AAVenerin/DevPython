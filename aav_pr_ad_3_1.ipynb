{
  "nbformat": 4,
  "nbformat_minor": 0,
  "metadata": {
    "colab": {
      "provenance": [],
      "collapsed_sections": []
    },
    "kernelspec": {
      "name": "python3",
      "display_name": "Python 3"
    },
    "language_info": {
      "name": "python"
    }
  },
  "cells": [
    {
      "cell_type": "code",
      "source": [
        "def sum_nech(l):\n",
        "    x = []\n",
        "    for i in range(len(l)):\n",
        "        if i % 2:\n",
        "            x.append(l[i])\n",
        "    return sum(x)\n",
        "\n",
        "l = [2, 3, 5, 9, 3]\n",
        "sum_nech(l)"
      ],
      "metadata": {
        "colab": {
          "base_uri": "https://localhost:8080/"
        },
        "id": "CjinsrhYomi8",
        "outputId": "ba62581c-b75b-489c-e3d7-a7fc7e6262cd"
      },
      "execution_count": null,
      "outputs": [
        {
          "output_type": "execute_result",
          "data": {
            "text/plain": [
              "12"
            ]
          },
          "metadata": {},
          "execution_count": 7
        }
      ]
    }
  ]
}