{
  "nbformat": 4,
  "nbformat_minor": 0,
  "metadata": {
    "colab": {
      "provenance": [],
      "collapsed_sections": []
    },
    "kernelspec": {
      "name": "python3",
      "display_name": "Python 3"
    },
    "language_info": {
      "name": "python"
    }
  },
  "cells": [
    {
      "cell_type": "code",
      "source": [
        "def max_min(l):\n",
        "    tmp = list()\n",
        "    for i in l:\n",
        "        tmp.append(i % 1)\n",
        "    rz = (max(tmp) - min(tmp))\n",
        "    return rz\n",
        "\n",
        "l = [1.1, 1.2, 3.1, 5, 10.01]\n",
        "print(max_min(l))"
      ],
      "metadata": {
        "colab": {
          "base_uri": "https://localhost:8080/"
        },
        "id": "CjinsrhYomi8",
        "outputId": "37eb5e47-95d5-46d1-bb17-96fd9c11d820"
      },
      "execution_count": 91,
      "outputs": [
        {
          "output_type": "stream",
          "name": "stdout",
          "text": [
            "0.19999999999999996\n"
          ]
        }
      ]
    }
  ]
}