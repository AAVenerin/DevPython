{
  "nbformat": 4,
  "nbformat_minor": 0,
  "metadata": {
    "colab": {
      "provenance": [],
      "collapsed_sections": []
    },
    "kernelspec": {
      "name": "python3",
      "display_name": "Python 3"
    },
    "language_info": {
      "name": "python"
    }
  },
  "cells": [
    {
      "cell_type": "code",
      "source": [
        "def sum_nech(l):\n",
        "    x = []\n",
        "    j = -1\n",
        "    for i in range((len(l)+1)//2):\n",
        "        x.append(l[i]*l[j])\n",
        "        j += -1\n",
        "    return (x)\n",
        "\n",
        "l = [2, 3, 4, 5, 6]\n",
        "sum_nech(l)"
      ],
      "metadata": {
        "colab": {
          "base_uri": "https://localhost:8080/"
        },
        "id": "CjinsrhYomi8",
        "outputId": "48634ca6-5818-47b9-a47d-be00c8b84379"
      },
      "execution_count": null,
      "outputs": [
        {
          "output_type": "execute_result",
          "data": {
            "text/plain": [
              "[12, 15, 16]"
            ]
          },
          "metadata": {},
          "execution_count": 25
        }
      ]
    }
  ]
}