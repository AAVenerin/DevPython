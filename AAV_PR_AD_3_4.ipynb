{
  "nbformat": 4,
  "nbformat_minor": 0,
  "metadata": {
    "colab": {
      "provenance": [],
      "collapsed_sections": []
    },
    "kernelspec": {
      "name": "python3",
      "display_name": "Python 3"
    },
    "language_info": {
      "name": "python"
    }
  },
  "cells": [
    {
      "cell_type": "code",
      "source": [
        "def num_bin(x):\n",
        "    bin_x = str()\n",
        "    while x > 0:\n",
        "        bin_x = str(x % 2) + bin_x\n",
        "        x = x // 2\n",
        "    return int(bin_x)\n",
        "\n",
        "num_bin(45)"
      ],
      "metadata": {
        "colab": {
          "base_uri": "https://localhost:8080/"
        },
        "id": "ir_zLb-Bwuzl",
        "outputId": "67014c10-039d-4427-e80b-1c4e013279b3"
      },
      "execution_count": 13,
      "outputs": [
        {
          "output_type": "execute_result",
          "data": {
            "text/plain": [
              "101101"
            ]
          },
          "metadata": {},
          "execution_count": 13
        }
      ]
    }
  ]
}